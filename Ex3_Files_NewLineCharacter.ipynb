{
 "cells": [
  {
   "cell_type": "code",
   "execution_count": 6,
   "metadata": {},
   "outputs": [
    {
     "name": "stdout",
     "output_type": "stream",
     "text": [
      "Hello\n",
      "World\n",
      "Hello whats your name?\n",
      "My name is Rogers\n",
      "Hello Mr.Roger\n"
     ]
    }
   ],
   "source": [
    "#The New Line Character: \\n\n",
    "\n",
    "greet = \"Hello\\nWorld\"\n",
    "print(greet)\n",
    "\n",
    "statement = \"Hello whats your name?\\nMy name is Rogers\\nHello Mr.Roger\"\n",
    "print(statement)"
   ]
  },
  {
   "cell_type": "code",
   "execution_count": null,
   "metadata": {},
   "outputs": [],
   "source": [
    "#Assignment: Write a program that prompts for a file name, then opens that file and reads through the file, and print the \n",
    "############ contents of the file in upper case. Use the file words.txt to produce the output below. You can download the \n",
    "############ sample data at http://www.py4e.com/code3/words.txt\n",
    "\n",
    "fname = input(\"Enter file name: \")\n",
    "fh = open(fname)\n",
    "fx = fh.read( )\n",
    "fy = fx.upper( )\n",
    "fz = fy.rstrip ( )\n",
    "print(fz)"
   ]
  },
  {
   "cell_type": "code",
   "execution_count": null,
   "metadata": {},
   "outputs": [],
   "source": [
    "#Assignment: Write a program that prompts for a file name, then opens that file and reads through the file, looking for lines \n",
    "############ of the form: X-DSPAM-Confidence:    0.8475. Count these lines and extract the floating point values from each of \n",
    "############ the lines and compute the average of those values and produce an output as shown below. Do not use the sum() \n",
    "############ function or a variable named sum in your solution. You can download the sample data at \n",
    "############ http://www.py4e.com/code3/mbox-short.txt when you are testing below enter mbox-short.txt as the file name.\n",
    "\n",
    "\n",
    "fname = input('Please enter file name')\n",
    "ofile = open(fname)\n",
    "rfile = ofile.read( )\n",
    "count = 0\n",
    "total = 0\n",
    "for lines in ofile:\n",
    "    if lines.startswith('X-DSPAM-Confidence:'):\n",
    "        txt = lines.find('0')\n",
    "        numbr = float(lines[txt:])\n",
    "        count = count + 1\n",
    "        total = total + numbr\n",
    "        average = total/count\n",
    "print('Average spam confidence:', average)"
   ]
  },
  {
   "cell_type": "code",
   "execution_count": null,
   "metadata": {},
   "outputs": [],
   "source": []
  },
  {
   "cell_type": "code",
   "execution_count": null,
   "metadata": {},
   "outputs": [],
   "source": []
  }
 ],
 "metadata": {
  "kernelspec": {
   "display_name": "Python 3",
   "language": "python",
   "name": "python3"
  },
  "language_info": {
   "codemirror_mode": {
    "name": "ipython",
    "version": 3
   },
   "file_extension": ".py",
   "mimetype": "text/x-python",
   "name": "python",
   "nbconvert_exporter": "python",
   "pygments_lexer": "ipython3",
   "version": "3.7.4"
  }
 },
 "nbformat": 4,
 "nbformat_minor": 2
}
