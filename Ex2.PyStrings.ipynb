{
 "cells": [
  {
   "cell_type": "code",
   "execution_count": 3,
   "metadata": {},
   "outputs": [
    {
     "name": "stdout",
     "output_type": "stream",
     "text": [
      "3\n"
     ]
    }
   ],
   "source": [
    "#Looping and counting\n",
    "\n",
    "word = 'banana'\n",
    "count = 0\n",
    "for letter in word:\n",
    "    if letter == 'a':\n",
    "        count = count + 1\n",
    "print(count)"
   ]
  },
  {
   "cell_type": "code",
   "execution_count": 6,
   "metadata": {},
   "outputs": [
    {
     "name": "stdout",
     "output_type": "stream",
     "text": [
      "Roger\n"
     ]
    }
   ],
   "source": [
    "#Slicing Strings\n",
    "\n",
    "name ='Rogers Python'\n",
    "print(name[0:5]) #as the slicing string follow \"upto but not including\" rule, slicing will start from first alphabet and end at 4\n",
    "\n",
    "#print(name[2:4])"
   ]
  },
  {
   "cell_type": "code",
   "execution_count": 14,
   "metadata": {},
   "outputs": [
    {
     "name": "stdout",
     "output_type": "stream",
     "text": [
      "Found it\n",
      "Found it\n",
      "Found it\n",
      "Gotcha\n"
     ]
    }
   ],
   "source": [
    "#Using 'in' as a logical operator\n",
    "\n",
    "fruit = 'banana'\n",
    "\n",
    "if 'n' in fruit:\n",
    "    print('Found it')\n",
    "if 'ban'in fruit:\n",
    "    print('Found it')\n",
    "if 'ana' in fruit:\n",
    "    print('Found it')\n",
    "if 'nan' in fruit:\n",
    "    print('Gotcha')"
   ]
  },
  {
   "cell_type": "code",
   "execution_count": 19,
   "metadata": {},
   "outputs": [
    {
     "name": "stdout",
     "output_type": "stream",
     "text": [
      "hello roger\n"
     ]
    }
   ],
   "source": [
    "#String lirary for converting to lower case:\n",
    "\n",
    "greet = 'Hello Roger'\n",
    "example = greet.lower()\n",
    "print(example)\n"
   ]
  },
  {
   "cell_type": "code",
   "execution_count": 24,
   "metadata": {},
   "outputs": [
    {
     "name": "stdout",
     "output_type": "stream",
     "text": [
      "HALLO LIEBER ROGER\n"
     ]
    }
   ],
   "source": [
    "#String library for converting to upper case:\n",
    "\n",
    "greet = 'hallo lieber roger'\n",
    "\n",
    "example = greet.upper()\n",
    "print(example)"
   ]
  },
  {
   "cell_type": "code",
   "execution_count": 26,
   "metadata": {},
   "outputs": [
    {
     "name": "stdout",
     "output_type": "stream",
     "text": [
      "Hello Blue\n"
     ]
    }
   ],
   "source": [
    "#Search and replace\n",
    "\n",
    "greet = 'Hello Rogers'\n",
    "\n",
    "example = greet.replace('Rogers', 'Blue') \n",
    "print(example)"
   ]
  },
  {
   "cell_type": "code",
   "execution_count": 36,
   "metadata": {},
   "outputs": [
    {
     "name": "stdout",
     "output_type": "stream",
     "text": [
      "   Hello Rogers   \n",
      "Hello Rogers\n"
     ]
    }
   ],
   "source": [
    "#Stripping Whitespaces/spaces\n",
    "\n",
    "greet = '   Hello Rogers   '\n",
    "print(greet)  #Whitespaces detected\n",
    "\n",
    "example = greet.strip()\n",
    "print(example) #Whitespaces removed successfully\n"
   ]
  },
  {
   "cell_type": "code",
   "execution_count": 35,
   "metadata": {},
   "outputs": [
    {
     "name": "stdout",
     "output_type": "stream",
     "text": [
      "     Hello Rogers\n",
      "Hello Rogers\n"
     ]
    }
   ],
   "source": [
    "#stripping whitespaces for left side\n",
    "\n",
    "greet = '     Hello Rogers'\n",
    "print(greet)  #whitespaces on left side detected\n",
    "\n",
    "example = greet.lstrip()\n",
    "print(example) #whitespaces on left side removed successfully "
   ]
  },
  {
   "cell_type": "code",
   "execution_count": 39,
   "metadata": {},
   "outputs": [
    {
     "name": "stdout",
     "output_type": "stream",
     "text": [
      "Hello Rogers              \n",
      "Hello Rogers\n"
     ]
    }
   ],
   "source": [
    "#stripping whitespaces for right side\n",
    "\n",
    "greet = 'Hello Rogers              '\n",
    "print(greet)  #whitespaces on left side detected\n",
    "\n",
    "example = greet.rstrip()\n",
    "print(example) #whitespaces on left side removed successfully "
   ]
  },
  {
   "cell_type": "code",
   "execution_count": 11,
   "metadata": {},
   "outputs": [
    {
     "name": "stdout",
     "output_type": "stream",
     "text": [
      "16\n",
      "29\n",
      "aalto.uni.fi\n"
     ]
    }
   ],
   "source": [
    "#Parsing and Extracting\n",
    "\n",
    "#From blue.rogers@aalto.uni.fi Tue Oct  5 09:14:16 2020\n",
    "\n",
    "data = 'From blue.rogers@aalto.uni.fi Tue Oct  5 09:14:16 2020'\n",
    "atpos = data.find('@')\n",
    "print(atpos)\n",
    "\n",
    "sppos = data.find(' ',atpos)\n",
    "print(sppos)\n",
    "\n",
    "host = data[atpos+1 : sppos]  #atpost+1 as the 'a' positioned on 17 in aalto starts after '@' positioned at 16\n",
    "print(host)"
   ]
  },
  {
   "cell_type": "code",
   "execution_count": 42,
   "metadata": {},
   "outputs": [
    {
     "name": "stdout",
     "output_type": "stream",
     "text": [
      "HelloThere\n",
      "42\n",
      "q\n",
      "uct\n",
      "42\n",
      "HELLO BOB\n",
      ".ma\n"
     ]
    }
   ],
   "source": [
    "#PracticeQuiz\n",
    "\n",
    "\n",
    "#What does the following Python Program print out?\n",
    "str1 = \"Hello\"\n",
    "str2 = 'There'\n",
    "bob = str1 + str2\n",
    "print(bob)\n",
    "\n",
    "#What does the following Python program print out?\n",
    "x = '40'\n",
    "y = int(x) + 2\n",
    "print(y)\n",
    "\n",
    "\n",
    "#How would you use the index operator [] to print out the letter q from the following string?\n",
    "x = 'From marquard@uct.ac.za'\n",
    "print(x[8])\n",
    "\n",
    "\n",
    "#How would you use string slicing [:] to print out 'uct' from the following string?\n",
    "\n",
    "x = 'From marquard@uct.ac.za'\n",
    "print(x[14:17])\n",
    "\n",
    "\n",
    "#What does the following Python code print out?\n",
    "\n",
    "print(len('banana')*7)\n",
    "\n",
    "\n",
    "#How would you print out the following variable in all upper case in Python?\n",
    "\n",
    "greet = 'Hello Bob'\n",
    "print(greet.upper())\n",
    "\n",
    "\n",
    "#What will the following Python code print out?\n",
    "\n",
    "data = 'From stephen.marquard@uct.ac.za Sat Jan  5 09:14:16 2008'\n",
    "pos = data.find('.')\n",
    "print(data[pos:pos+3])"
   ]
  },
  {
   "cell_type": "code",
   "execution_count": 73,
   "metadata": {},
   "outputs": [
    {
     "name": "stdout",
     "output_type": "stream",
     "text": [
      "0.8475\n"
     ]
    }
   ],
   "source": [
    "#Ex1: Write code using find() and string slicing to extract the number at the end of the line below. \n",
    "######Convert the extracted value to a floating point number and print it out.\n",
    "\n",
    "text = \"X-DSPAM-Confidence:    0.8475\"\n",
    "colpos = text.find(':')\n",
    "#print(colpos)\n",
    "\n",
    "flnum = text[colpos+5: ]\n",
    "#print(flnum)\n",
    "\n",
    "value = float(flnum)\n",
    "print(value)"
   ]
  },
  {
   "cell_type": "code",
   "execution_count": null,
   "metadata": {},
   "outputs": [],
   "source": []
  },
  {
   "cell_type": "code",
   "execution_count": null,
   "metadata": {},
   "outputs": [],
   "source": []
  }
 ],
 "metadata": {
  "kernelspec": {
   "display_name": "Python 3",
   "language": "python",
   "name": "python3"
  },
  "language_info": {
   "codemirror_mode": {
    "name": "ipython",
    "version": 3
   },
   "file_extension": ".py",
   "mimetype": "text/x-python",
   "name": "python",
   "nbconvert_exporter": "python",
   "pygments_lexer": "ipython3",
   "version": "3.7.4"
  }
 },
 "nbformat": 4,
 "nbformat_minor": 2
}
