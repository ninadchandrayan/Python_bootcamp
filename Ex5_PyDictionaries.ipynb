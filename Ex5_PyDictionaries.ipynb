{
 "cells": [
  {
   "cell_type": "code",
   "execution_count": 5,
   "metadata": {},
   "outputs": [
    {
     "name": "stdout",
     "output_type": "stream",
     "text": [
      "{'honey': 16, 'chocolate': 99, 'wipes': 5}\n",
      "16\n",
      "9\n",
      "{'honey': 16, 'chocolate': 99, 'wipes': 9}\n"
     ]
    }
   ],
   "source": [
    "#Construction of dictionary\n",
    "\n",
    "purse = dict()\n",
    "purse ['honey'] = 16\n",
    "purse ['chocolate'] = 99\n",
    "purse ['wipes'] = 5\n",
    "print(purse)\n",
    "print(purse['honey'])\n",
    "purse['wipes'] = purse['wipes'] + 4\n",
    "print(purse['wipes'])\n",
    "print(purse)"
   ]
  },
  {
   "cell_type": "code",
   "execution_count": 8,
   "metadata": {},
   "outputs": [
    {
     "name": "stdout",
     "output_type": "stream",
     "text": [
      "{'honey': 16, 'chocolate': 99, 'wipes': 5}\n"
     ]
    }
   ],
   "source": [
    "# Dictionary Literals (Constations) #use of curly '{}' brackets\n",
    "\n",
    "purse = dict()\n",
    "purse = {'honey': 16, 'chocolate': 99, 'wipes': 5}\n",
    "print(purse)"
   ]
  },
  {
   "cell_type": "code",
   "execution_count": 11,
   "metadata": {},
   "outputs": [
    {
     "name": "stdout",
     "output_type": "stream",
     "text": [
      "{'ramsdale': 1, 'tomiyasu': 2, 'xhaka': 2, 'nketiah': 1, 'Jesus': 1}\n"
     ]
    }
   ],
   "source": [
    "#Simplified counting with 'get'\n",
    "\n",
    "counts = dict()\n",
    "names = ['ramsdale', 'tomiyasu', 'xhaka', 'nketiah', 'Jesus', 'xhaka', 'tomiyasu',]\n",
    "for name in names:\n",
    "    counts[name] = counts.get(name, 0) + 1\n",
    "print(counts)"
   ]
  },
  {
   "cell_type": "code",
   "execution_count": 18,
   "metadata": {},
   "outputs": [
    {
     "name": "stdout",
     "output_type": "stream",
     "text": [
      "['Ramsdale', 'Gabriel', 'Partey', 'Jesus']\n",
      "dict_keys(['Ramsdale', 'Gabriel', 'Partey', 'Jesus'])\n",
      "dict_values([1, 3, 5, 9])\n",
      "dict_items([('Ramsdale', 1), ('Gabriel', 3), ('Partey', 5), ('Jesus', 9)])\n"
     ]
    }
   ],
   "source": [
    "# Retriving lists of Keys and values\n",
    "\n",
    "squad = {'Ramsdale' : 1, 'Gabriel' : 3, 'Partey' : 5, 'Jesus' : 9}\n",
    "print(list(squad))\n",
    "print(squad.keys())\n",
    "print(squad.values())\n",
    "print(squad.items())"
   ]
  },
  {
   "cell_type": "code",
   "execution_count": 20,
   "metadata": {},
   "outputs": [
    {
     "name": "stdout",
     "output_type": "stream",
     "text": [
      "Ramsdale 1\n",
      "Gabriel 3\n",
      "Partey 5\n",
      "Jesus 9\n"
     ]
    }
   ],
   "source": [
    "# Two iteration variables\n",
    "\n",
    "squad = {'Ramsdale' : 1, 'Gabriel' : 3, 'Partey' : 5, 'Jesus' : 9}\n",
    "\n",
    "for aaa,bbb in squad.items():    ####here 'aaa' is a 'key' (i.e.) Ramsdale,Gabriel etc and 'bbb' is a value (i.e.) 1, 3,5 etc\n",
    "    print(aaa,bbb)\n"
   ]
  },
  {
   "cell_type": "code",
   "execution_count": 1,
   "metadata": {},
   "outputs": [
    {
     "ename": "KeyError",
     "evalue": "'Candy'",
     "output_type": "error",
     "traceback": [
      "\u001b[1;31m---------------------------------------------------------------------------\u001b[0m",
      "\u001b[1;31mKeyError\u001b[0m                                  Traceback (most recent call last)",
      "\u001b[1;32m<ipython-input-1-48682f16f3e7>\u001b[0m in \u001b[0;36m<module>\u001b[1;34m\u001b[0m\n\u001b[0;32m      1\u001b[0m \u001b[0mstuff\u001b[0m \u001b[1;33m=\u001b[0m \u001b[0mdict\u001b[0m\u001b[1;33m(\u001b[0m\u001b[1;33m)\u001b[0m\u001b[1;33m\u001b[0m\u001b[1;33m\u001b[0m\u001b[0m\n\u001b[1;32m----> 2\u001b[1;33m \u001b[0mprint\u001b[0m\u001b[1;33m(\u001b[0m\u001b[0mstuff\u001b[0m\u001b[1;33m[\u001b[0m\u001b[1;34m'Candy'\u001b[0m\u001b[1;33m]\u001b[0m\u001b[1;33m)\u001b[0m\u001b[1;33m\u001b[0m\u001b[1;33m\u001b[0m\u001b[0m\n\u001b[0m",
      "\u001b[1;31mKeyError\u001b[0m: 'Candy'"
     ]
    }
   ],
   "source": [
    "stuff = dict()\n",
    "print(stuff['candy'])"
   ]
  },
  {
   "cell_type": "code",
   "execution_count": null,
   "metadata": {},
   "outputs": [],
   "source": [
    "#Assignment: 9.4 Write a program to read through the mbox-short.txt and figure out who has sent the greatest number of mail\n",
    "############ messages. The program looks for 'From ' lines and takes the second word of those lines as the person who sent the \n",
    "############ mail. The program creates a Python dictionary that maps the sender's mail address to a count of the number of\n",
    "############ times they appear in the file. After the dictionary is produced, the program reads through the dictionary using a \n",
    "############ maximum loop to find the most prolific committer.\n",
    "\n",
    "name = input(\"Please Enter file name:\")\n",
    "if len(name) < 1:\n",
    "    name = \"mbox-short.txt\"\n",
    "handle = open(name)\n",
    "\n",
    "#creating a dictionary to store the value of interests\n",
    "\n",
    "sender = {}\n",
    "for line in handle:   #picks line beginning with 'From\n",
    "    if line.startswith('From:'):\n",
    "        line = line.rstrip().split()  #strip the output\n",
    "        word = line[1]  #formats the output and selects email from lines \n",
    "        sender[word] = sender.get(word, 0) +1  #adds the email and their counts\n",
    "\n",
    "#creating a variable to hold the number of the largest count\n",
    "bigword = None\n",
    "bigcount= None\n",
    "\n",
    "for word, count in sender.items():\n",
    "    if bigcount is None or count > bigcount:\n",
    "        bigword = word\n",
    "        bigcount = count\n",
    "print(bigword, bigcount)"
   ]
  }
 ],
 "metadata": {
  "kernelspec": {
   "display_name": "Python 3",
   "language": "python",
   "name": "python3"
  },
  "language_info": {
   "codemirror_mode": {
    "name": "ipython",
    "version": 3
   },
   "file_extension": ".py",
   "mimetype": "text/x-python",
   "name": "python",
   "nbconvert_exporter": "python",
   "pygments_lexer": "ipython3",
   "version": "3.7.4"
  }
 },
 "nbformat": 4,
 "nbformat_minor": 2
}
