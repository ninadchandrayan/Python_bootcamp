{
 "cells": [
  {
   "cell_type": "code",
   "execution_count": 2,
   "metadata": {},
   "outputs": [
    {
     "name": "stdout",
     "output_type": "stream",
     "text": [
      "Enter Hours:35\n",
      "Enter Rate2.75\n",
      "Pay: 96.25\n"
     ]
    }
   ],
   "source": [
    "#Ex2: Write a program to prompt the user for hours and rate per hour using input to compute gross pay. Use 35 hours and\n",
    "##### a rate of 2.75 per hour to test the program (the pay should be 96.25).\n",
    "\n",
    "\n",
    "hrs = input(\"Enter Hours:\")\n",
    "rate = input(\"Enter Rate\")\n",
    "gross_pay = float(hrs) * float(rate)\n",
    "print(\"Pay:\", gross_pay)"
   ]
  },
  {
   "cell_type": "code",
   "execution_count": 3,
   "metadata": {},
   "outputs": [
    {
     "name": "stdout",
     "output_type": "stream",
     "text": [
      "Enter Hours:45\n",
      "Enter the Rate:10.50\n",
      "498.75\n"
     ]
    }
   ],
   "source": [
    "#Ex3:  Write a program to prompt the user for hours and rate per hour using input to compute gross pay. Pay the hourly rate for the hours up to 40 and 1.5 times the hourly rate for all hours worked above 40 hours. Use 45 hours and a rate of 10.50 per hour to test the program (the pay should be 498.75).\n",
    "\n",
    "hrs = input(\"Enter Hours:\")\n",
    "h = float(hrs)\n",
    "rt= input(\"Enter the Rate:\")\n",
    "r = float(rt)\n",
    "if h <= 40:\n",
    " \tprint( h  * x)\n",
    "elif h > 40:\n",
    "\tprint(40* r + (h-40)*1.5*r)"
   ]
  },
  {
   "cell_type": "code",
   "execution_count": 6,
   "metadata": {},
   "outputs": [
    {
     "name": "stdout",
     "output_type": "stream",
     "text": [
      "Enter Score: 0.86\n",
      "B\n"
     ]
    }
   ]
   "source": [
    "#Ex4:/ Write a program to prompt for a score between 0.0 and 1.0. If the score is out of range, print an error. If the score is between 0.0 and 1.0, print a grade using the following table:\n",
    "## Score Grade\n",
    "#>= 0.9 A\n",
    "#>= 0.8 B\n",
    "#>= 0.7 C\n",
    "#>= 0.6 D\n",
    "#< 0.6 F\n",
    "#If the user enters a value out of range, print a suitable error message and exit. For the test, enter a score of 0.85.\n",
    "\n",
    "score = input(\"Enter Score: \")\n",
    "sc= float(score)\n",
    "gr= \"error\"\n",
    "if sc >= 0.9:\n",
    "    gr = \"A\"\n",
    "elif sc >= 0.8:\n",
    "    gr = \"B\"\n",
    "elif sc >= 0.7:\n",
    "    gr = \"C\"\n",
    "elif sc >= 0.6:\n",
    "    gr = \"D\"\n",
    "elif sc < 0.6:\n",
    "    gr = \"F\"\n",
    "print(gr)\n",
    "    "
   ]
  },
  {
   "cell_type": "code",
   "execution_count": null,
   "metadata": {},
   "outputs": [],
   "source": [
    "#Ex5: Write a program to prompt the user for hours and rate per hour using input to compute gross pay. Pay should be the \n",
    "##### normal rate for hours up to 40 and time-and-a-half for the hourly rate for all hours worked above 40 hours. Put the \n",
    "##### logic to do the computation of pay in a function called computepay() and use the function to do the computation. \n",
    "##### The function should return a value. Use 45 hours and a rate of 10.50 per hour to test the program (the pay should be 498.75).\n",
    "\n",
    "def computepay(h,r):\n",
    "    if h > 40:\n",
    "        p = 1.5 * r * (h - 40) + (40 *r)\n",
    "    else:\n",
    "        p = h * r\n",
    "    return p\n",
    "    \n",
    "hrs = input(\"Enter Hours:\")\n",
    "hr = float(hrs)\n",
    "rphrs = input(\"Enter rate per hour:\")\n",
    "rphr = float(rphrs)\n",
    "\n",
    "p = computepay(hr,rphr)\n",
    "print(\"Pay\", p)"
   ]
  },
  {
   "cell_type": "code",
   "execution_count": 7,
   "metadata": {},
   "outputs": [
    {
     "name": "stdout",
     "output_type": "stream",
     "text": [
      "Before -1\n",
      "9 9\n",
      "41 41\n",
      "41 12\n",
      "41 3\n",
      "74 74\n",
      "74 13\n",
      "After 74\n"
     ]
    }
   ],
   "source": [
    "#Loop and iteration: Finding the largest value\n",
    "\n",
    "largest_so_far = -1\n",
    "print ('Before', largest_so_far)\n",
    "for the_num in [9,41, 12, 3, 74, 13]:\n",
    "    if the_num > largest_so_far:\n",
    "        largest_so_far = the_num\n",
    "    print(largest_so_far, the_num)\n",
    "\n",
    "print ('After', largest_so_far)"
   ]
  },
  {
   "cell_type": "code",
   "execution_count": 9,
   "metadata": {},
   "outputs": [
    {
     "name": "stdout",
     "output_type": "stream",
     "text": [
      "Before 0\n",
      "1 9\n",
      "2 41\n",
      "3 12\n",
      "4 3\n",
      "5 74\n",
      "6 13\n",
      "After 6\n"
     ]
    }
   ],
   "source": [
    "#Loop and iteration: Counting in a loop\n",
    "\n",
    "total_count = 0\n",
    "print('Before', total_count)\n",
    "\n",
    "for thing in [9, 41, 12, 3, 74, 13]:\n",
    "    total_count = total_count + 1\n",
    "    print (total_count, thing)\n",
    "print('After', total_count)    "
   ]
  },
  {
   "cell_type": "code",
   "execution_count": 1,
   "metadata": {},
   "outputs": [
    {
     "name": "stdout",
     "output_type": "stream",
     "text": [
      "Before 0\n",
      "9 9\n",
      "50 41\n",
      "62 12\n",
      "65 3\n",
      "139 74\n",
      "152 13\n",
      "After 152\n"
     ]
    }
   ],
   "source": [
    "#Loop and iteration: Summing in a Loop\n",
    "\n",
    "tc = 0     #totalcount\n",
    "print('Before', tc)\n",
    "\n",
    "for thing in [9, 41, 12, 3, 74, 13]:\n",
    "    tc = tc + thing\n",
    "    print (tc, thing)\n",
    "print('After', tc)"
   ]
  },
  {
   "cell_type": "code",
   "execution_count": 2,
   "metadata": {},
   "outputs": [
    {
     "name": "stdout",
     "output_type": "stream",
     "text": [
      "Before 0 0\n",
      "1 9 9.0\n",
      "2 50 25.0\n",
      "3 62 20.666666666666668\n",
      "4 65 16.25\n",
      "5 139 27.8\n",
      "6 152 25.333333333333332\n",
      "After\n"
     ]
    }
   ],
   "source": [
    "#Loop and iteration: Average in a loop\n",
    "\n",
    "tc = 0    #TotalCount\n",
    "sm = 0    #TotalSum\n",
    "print('Before', tc, sm)\n",
    "\n",
    "for thing in [9, 41, 12, 3, 74, 13]:\n",
    "    tc = tc + 1\n",
    "    sm = sm + thing\n",
    "    avg = sm / tc\n",
    "    print(tc, sm, avg)\n",
    "print('After')"
   ]
  },
  {
   "cell_type": "code",
   "execution_count": 13,
   "metadata": {},
   "outputs": [
    {
     "name": "stdout",
     "output_type": "stream",
     "text": [
      "Before\n",
      "9 9\n",
      "9 41\n",
      "9 12\n",
      "3 3\n",
      "3 74\n",
      "3 13\n",
      "After 3\n"
     ]
    }
   ],
   "source": [
    "#Loop and iteration: Finding the smallest number in a value\n",
    "\n",
    "smallest_value = None\n",
    "print('Before')\n",
    "\n",
    "for value in [9, 41, 12, 3, 74, 13]:\n",
    "    if smallest_value is None:\n",
    "        smallest_value = value\n",
    "    elif value < smallest_value:\n",
    "        smallest_value = value\n",
    "    print(smallest_value, value)\n",
    "print('After', smallest_value)"
   ]
  },
  {
   "cell_type": "code",
   "execution_count": 15,
   "metadata": {},
   "outputs": [
    {
     "name": "stdout",
     "output_type": "stream",
     "text": [
      "Before\n",
      "9 9\n",
      "41 41\n",
      "41 12\n",
      "41 3\n",
      "74 74\n",
      "74 13\n",
      "After 74\n"
     ]
    }
   ],
   "source": [
    "#Loop and iteration: Finding the largest number in a value\n",
    "largest_value = None\n",
    "print('Before')\n",
    "\n",
    "for value in [9, 41, 12, 3, 74, 13]:\n",
    "    if largest_value is None:\n",
    "        largest_value = value\n",
    "    elif value > largest_value:\n",
    "        largest_value = value\n",
    "    print(largest_value, value)\n",
    "print('After', largest_value)"
   ]
  },
  {
   "cell_type": "code",
   "execution_count": 20,
   "metadata": {},
   "outputs": [
    {
     "name": "stdout",
     "output_type": "stream",
     "text": [
      "largest Value\n",
      "41\n",
      "74\n"
     ]
    }
   ],
   "source": [
    "#Loop and iteration: Filter in Loop\n",
    "\n",
    "print('largest Value')\n",
    "\n",
    "for value in [9, 41, 12, 3, 74, 13]:\n",
    "    if value > 20:\n",
    "        print(value)"
   ]
  },
  {
   "cell_type": "code",
   "execution_count": 11,
   "metadata": {},
   "outputs": [
    {
     "name": "stdout",
     "output_type": "stream",
     "text": [
      "Before False\n",
      "False 9\n",
      "False 41\n",
      "False 12\n",
      "After 3 True\n"
     ]
    }
   ],
   "source": [
    "#Loop and iteration: Search using boolean variable\n",
    "\n",
    "found = False\n",
    "print('Before', found)\n",
    "\n",
    "for value in [9, 41, 12, 3, 74, 13]:\n",
    "    if value == 3:\n",
    "        found = True \n",
    "        break\n",
    "    print(found, value)\n",
    "print('After', value, found)\n"
   ]
  },
  {
   "cell_type": "code",
   "execution_count": 13,
   "metadata": {},
   "outputs": [
    {
     "name": "stdout",
     "output_type": "stream",
     "text": [
      "5\n",
      "4\n",
      "3\n",
      "2\n",
      "1\n",
      "Blastoff\n",
      "0\n"
     ]
    }
   ],
   "source": [
    "#Loop  and iteration: While loop\n",
    "\n",
    "n= 5\n",
    "while n > 0:\n",
    "    print(n)\n",
    "    n = n-1\n",
    "print('Blastoff')\n",
    "print(n)"
   ]
  },
  {
   "cell_type": "code",
   "execution_count": 15,
   "metadata": {},
   "outputs": [
    {
     "name": "stdout",
     "output_type": "stream",
     "text": [
      "Enter a number: 7\n",
      "Enter a number: 2\n",
      "Enter a number: roger\n",
      "Invalid input\n",
      "Enter a number: 10\n",
      "Enter a number: 4\n",
      "Enter a number: done\n",
      "Maximum is 10\n",
      "Minimum is 2\n"
     ]
    }
   ],
   "source": [
    "#Ex6: Write a program that repeatedly prompts a user for integer numbers until the user enters 'done'. Once 'done' is entered,\n",
    "##### print out the largest and smallest of the numbers. If the user enters anything other than a valid number catch it with a \n",
    "##### try/except and put out an appropriate message and ignore the number. Enter 7, 2, bob, 10, 4 and match the output below.\n",
    "\n",
    "\n",
    "largest = None\n",
    "smallest = None\n",
    "while True:\n",
    "    num = input(\"Enter a number: \")\n",
    "    if num == \"done\":\n",
    "        break\n",
    "    try:\n",
    "        num= int(num)\n",
    "        if largest is None or largest < num:\n",
    "            largest = num\n",
    "        if smallest is None or smallest > num:\n",
    "            smallest = num\n",
    "    except:\n",
    "        print(\"Invalid input\")\n",
    "        continue\n",
    "\n",
    "print(\"Maximum is\", largest)\n",
    "print(\"Minimum is\", smallest)"
   ]
  },
  {
   "cell_type": "code",
   "execution_count": null,
   "metadata": {},
   "outputs": [],
   "source": []
  }
 ],
 "metadata": {
  "kernelspec": {
   "display_name": "Python 3",
   "language": "python",
   "name": "python3"
  },
  "language_info": {
   "codemirror_mode": {
    "name": "ipython",
    "version": 3
   },
   "file_extension": ".py",
   "mimetype": "text/x-python",
   "name": "python",
   "nbconvert_exporter": "python",
   "pygments_lexer": "ipython3",
   "version": "3.7.4"
  }
 },
 "nbformat": 4,
 "nbformat_minor": 2
}
