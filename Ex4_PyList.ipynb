{
 "cells": [
  {
   "cell_type": "code",
   "execution_count": 3,
   "metadata": {},
   "outputs": [
    {
     "name": "stdout",
     "output_type": "stream",
     "text": [
      "['shoes', 'jeans', 'shirt']\n",
      "['shoes', 'jeans', 'shirt', 'tea', '7 cubes of sugar', 'milk']\n"
     ]
    }
   ],
   "source": [
    "#Building a list from scratch using 'append' method\n",
    "\n",
    "stuff = list()\n",
    "stuff.append('shoes')\n",
    "stuff.append('jeans')\n",
    "stuff.append('shirt')\n",
    "print(stuff)\n",
    "\n",
    "stuff.append('tea')\n",
    "stuff.append('7 cubes of sugar')\n",
    "stuff.append('milk')\n",
    "print(stuff)"
   ]
  },
  {
   "cell_type": "code",
   "execution_count": 4,
   "metadata": {},
   "outputs": [
    {
     "name": "stdout",
     "output_type": "stream",
     "text": [
      "['Blue', 'Rogers', 'Gooner', 'London', 'is', 'Red']\n"
     ]
    }
   ],
   "source": [
    "#List Concatnate example\n",
    "stuff1 = ['Blue', 'Rogers', 'Gooner']\n",
    "stuff2 = ['London', 'is', 'Red']\n",
    "print(stuff1 + stuff2)"
   ]
  },
  {
   "cell_type": "code",
   "execution_count": 6,
   "metadata": {},
   "outputs": [
    {
     "name": "stdout",
     "output_type": "stream",
     "text": [
      "['Gabriel', 'Partey', 'Ramsdale', 'Saka']\n",
      "Ramsdale\n"
     ]
    }
   ],
   "source": [
    "#List in order\n",
    "\n",
    "players = ['Ramsdale', 'Gabriel', 'Partey', 'Saka']\n",
    "players.sort()\n",
    "print(players)\n",
    "\n",
    "print(players[2])"
   ]
  },
  {
   "cell_type": "code",
   "execution_count": 14,
   "metadata": {},
   "outputs": [
    {
     "name": "stdout",
     "output_type": "stream",
     "text": [
      "6\n",
      "4\n",
      "102\n",
      "265\n",
      "44.166666666666664\n"
     ]
    }
   ],
   "source": [
    "#Built-in funcions and lists\n",
    "\n",
    "nums =  [4, 7, 9, 44, 99, 102]\n",
    "print(len(nums))\n",
    "print(min(nums))\n",
    "print(max(nums))\n",
    "print(sum(nums))\n",
    "print(sum(nums)/len(nums))"
   ]
  },
  {
   "cell_type": "code",
   "execution_count": 19,
   "metadata": {},
   "outputs": [
    {
     "name": "stdout",
     "output_type": "stream",
     "text": [
      "Kindly enter a Number:9\n",
      "Kindly enter a Number:99\n",
      "Kindly enter a Number:999\n",
      "Kindly enter a Number:done\n",
      "Average: 369.0\n"
     ]
    }
   ],
   "source": [
    "#Example of 'numlist'\n",
    "\n",
    "num = ['9', '99', '999']\n",
    "numlist = list()\n",
    "while True :\n",
    "    inp = input('Kindly enter a Number:')\n",
    "    if inp == 'done': break\n",
    "    value = float(inp)\n",
    "    numlist.append(value)\n",
    "    average = sum(numlist)/ len(numlist)\n",
    "print('Average:', average)"
   ]
  },
  {
   "cell_type": "code",
   "execution_count": 23,
   "metadata": {},
   "outputs": [
    {
     "name": "stdout",
     "output_type": "stream",
     "text": [
      "['With', 'three', 'Words']\n",
      "3\n",
      "Words\n"
     ]
    }
   ],
   "source": [
    "#Split method example:\n",
    "\n",
    "abc = 'With three Words'\n",
    "stuff = abc.split()\n",
    "print(stuff)\n",
    "\n",
    "print(len(stuff))\n",
    "\n",
    "print(stuff[2])"
   ]
  },
  {
   "cell_type": "code",
   "execution_count": 28,
   "metadata": {},
   "outputs": [
    {
     "name": "stdout",
     "output_type": "stream",
     "text": [
      "['With', 'three', 'Words']\n",
      "With\n",
      "three\n",
      "Words\n"
     ]
    }
   ],
   "source": [
    "#Split method example II:\n",
    "\n",
    "abc = 'With three Words'\n",
    "stuff = abc.split()\n",
    "print(stuff)\n",
    "\n",
    "for w in stuff:\n",
    "    print(w)"
   ]
  },
  {
   "cell_type": "code",
   "execution_count": 31,
   "metadata": {},
   "outputs": [
    {
     "name": "stdout",
     "output_type": "stream",
     "text": [
      "['blue.rogers@luh-uni.de', 'Sat', 'Jan', '5', '09:14:16', '2020']\n",
      "6\n",
      "09:14:16\n"
     ]
    }
   ],
   "source": [
    "#Ex1: Use of 'split' method to parse mail data\n",
    "#From blue.rogers@luh-uni.de Sat Jan 5 09:14:16 2020\n",
    "\n",
    "line = 'blue.rogers@luh-uni.de Sat Jan 5 09:14:16 2020'\n",
    "words = line.split()\n",
    "print(words)\n",
    "print(len(words))\n",
    "print(words[4])"
   ]
  },
  {
   "cell_type": "code",
   "execution_count": 35,
   "metadata": {},
   "outputs": [
    {
     "name": "stdout",
     "output_type": "stream",
     "text": [
      "['blue.rogers@luh-uni.de', 'Sat', 'Jan', '5', '09:14:16', '2020']\n",
      "blue.rogers@luh-uni.de\n",
      "['blue.rogers', 'luh-uni.de']\n"
     ]
    }
   ],
   "source": [
    "# The double split pattern\n",
    "\n",
    "line = 'blue.rogers@luh-uni.de Sat Jan 5 09:14:16 2020'\n",
    "words = line.split()\n",
    "print(words)\n",
    "email = words[0]\n",
    "print(email)\n",
    "atsign = email.split('@')\n",
    "print(atsign)"
   ]
  },
  {
   "cell_type": "code",
   "execution_count": null,
   "metadata": {},
   "outputs": [],
   "source": [
    "#Assignment 1 : Open the file romeo.txt and read it line by line. For each line, split the line into a list of words using the \n",
    "############ split() method. The program should build a list of words. For each word on each line check to see if the word is \n",
    "############ already in the list and if not append it to the list. When the program completes, sort and print the resulting \n",
    "############ words in python sort() order as shown in the desired output. You can download the sample data at http://www.py4e.com/code3/romeo.txt\n",
    "\n",
    "fname = input('Please enter file name:')\n",
    "of = open(fname)\n",
    "lst = list( )\n",
    "for line in of:\n",
    "    words = line.split( )\n",
    "    for word in words:\n",
    "        if word not in lst:\n",
    "            lst.append(word)\n",
    "            lst.sort()\n",
    "print(lst)\n",
    "        \n",
    "\n",
    "    "
   ]
  },
  {
   "cell_type": "code",
   "execution_count": null,
   "metadata": {},
   "outputs": [],
   "source": [
    "#Assignment 2: Open the file mbox-short.txt and read it line by line. When you find a line that starts with 'From ' like\n",
    "############## the following line: From stephen.marquard@uct.ac.za Sat Jan  5 09:14:16 2008 You will parse the From line \n",
    "############## using split() and print out the second word in the line (i.e. the entire address of the person who sent the \n",
    "############## message). Then print out a count at the end.\n",
    "\n",
    "fname = input(\"Enter file name: \")\n",
    "if len(fname) < 1:\n",
    "    fname = \"mbox-short.txt\"\n",
    "\n",
    "fh = open(fname)\n",
    "count = 0\n",
    "\n",
    "for line in fh:\n",
    "    x= line.rstrip().split()\n",
    "    if 'From' in x:\n",
    "        print(x[1])\n",
    "        count+=1\n",
    "    else:\n",
    "        continue\n",
    "\n",
    "print(\"There were\", count, \"lines in the file with From as the first word\")"
   ]
  },
  {
   "cell_type": "code",
   "execution_count": null,
   "metadata": {},
   "outputs": [],
   "source": []
  }
 ],
 "metadata": {
  "kernelspec": {
   "display_name": "Python 3",
   "language": "python",
   "name": "python3"
  },
  "language_info": {
   "codemirror_mode": {
    "name": "ipython",
    "version": 3
   },
   "file_extension": ".py",
   "mimetype": "text/x-python",
   "name": "python",
   "nbconvert_exporter": "python",
   "pygments_lexer": "ipython3",
   "version": "3.7.4"
  }
 },
 "nbformat": 4,
 "nbformat_minor": 2
}
